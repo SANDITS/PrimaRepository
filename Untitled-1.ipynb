{
 "cells": [
  {
   "cell_type": "markdown",
   "metadata": {},
   "source": [
    "### KNIGHT'S WALK\n"
   ]
  },
  {
   "cell_type": "code",
   "execution_count": 1,
   "metadata": {},
   "outputs": [],
   "source": [
    "import numpy as np\n",
    "import matplotlib.pyplot as plt"
   ]
  },
  {
   "cell_type": "code",
   "execution_count": null,
   "metadata": {},
   "outputs": [],
   "source": [
    "# we will store the chest board in a 2d numpy array of integers. the size of the board is (2n +1) by (2n +1), for  a given integer n.\n",
    "# This means the board extends from the center square by n steps in all directions,"
   ]
  },
  {
   "cell_type": "code",
   "execution_count": 3,
   "metadata": {},
   "outputs": [
    {
     "name": "stdout",
     "output_type": "stream",
     "text": [
      "37\t36\t35\t34\t33\t32\t31\t\n",
      "38\t17\t16\t15\t14\t13\t30\t\n",
      "39\t18\t5\t4\t3\t12\t29\t\n",
      "40\t19\t6\t1\t2\t11\t28\t\n",
      "41\t20\t7\t8\t9\t10\t27\t\n",
      "42\t21\t22\t23\t24\t25\t26\t\n",
      "43\t44\t45\t46\t47\t48\t49\t\n"
     ]
    }
   ],
   "source": [
    "# Definizione di una funzione per creare una matrice a spirale di dimensione n x n\n",
    "def crea_matrice_spirale(n):\n",
    "    # Inizializza una matrice vuota di dimensione n x n con tutti gli elementi inizializzati a 0\n",
    "    matrice = [[0] * n for _ in range(n)]\n",
    "\n",
    "    # Inizializza il numero corrente a 1 e le coordinate della posizione centrale della matrice\n",
    "\n",
    "    numero = 1\n",
    "    riga, colonna = n // 2, n // 2\n",
    "\n",
    "    # Inizializza la direzione iniziale come \"destra\", inizializza il numero di passi iniziale a 1,\n",
    "    # e il numero di passi completati a 0\n",
    "    direzione = \"destra\"\n",
    "    passi = 1\n",
    "    passi_completati = 0\n",
    "\n",
    "    # Finché non abbiamo riempito la matrice con tutti i numeri da 1 a n^2\n",
    "    while numero <= n * n:\n",
    "        # Assegna il numero corrente alla posizione corrente nella matrice\n",
    "        matrice[riga][colonna] = numero\n",
    "        numero += 1\n",
    "\n",
    "        # Sposta la posizione in base alla direzione corrente\n",
    "        if direzione == \"destra\":\n",
    "            colonna += 1\n",
    "        elif direzione == \"giù\":\n",
    "            riga += 1\n",
    "        elif direzione == \"sinistra\":\n",
    "            colonna -= 1\n",
    "        elif direzione == \"su\":\n",
    "            riga -= 1\n",
    "\n",
    "        # Incrementa il conteggio dei passi completati\n",
    "        passi_completati += 1\n",
    "\n",
    "        # Se abbiamo completato il numero di passi previsti nella direzione corrente\n",
    "        if passi_completati == passi:\n",
    "            passi_completati = 0\n",
    "\n",
    "            # Cambia direzione in senso orario (\"destra\" -> \"giù\" -> \"sinistra\" -> \"su\" -> \"destra\")\n",
    "            if direzione == \"destra\":\n",
    "                direzione = \"su\"\n",
    "            elif direzione == \"su\":\n",
    "                direzione = \"sinistra\"\n",
    "            elif direzione == \"sinistra\":\n",
    "                direzione = \"giù\"\n",
    "            elif direzione == \"giù\":\n",
    "                direzione = \"destra\"\n",
    "\n",
    "            # Se la direzione è \"destra\" o \"sinistra\", incrementa il numero di passi\n",
    "            if direzione in [\"destra\", \"sinistra\"]:\n",
    "                passi += 1\n",
    "\n",
    "    # Restituisce la matrice completata\n",
    "    return matrice\n",
    "\n",
    "# Definizione di una funzione per stampare una matrice\n",
    "def stampa_matrice(matrice):\n",
    "    for riga in matrice:\n",
    "        for elemento in riga:\n",
    "            print(elemento, end=\"\\t\")  # Stampa ogni elemento della matrice separato da una tabulazione\n",
    "        print()  # Vai a capo dopo ogni riga\n",
    "\n",
    "# Dimensione della matrice (puoi cambiarla)\n",
    "n = 7 # deve essere per forza dispari\n",
    "\n",
    "# Chiama la funzione per creare la matrice a spirale\n",
    "matrice_spirale = crea_matrice_spirale(n)\n",
    "\n",
    "# Chiama la funzione per stampare la matrice\n",
    "stampa_matrice(matrice_spirale)"
   ]
  },
  {
   "cell_type": "code",
   "execution_count": 8,
   "metadata": {},
   "outputs": [
    {
     "data": {
      "text/plain": [
       "array([[65, 64, 63, 62, 61, 60, 59, 58, 57],\n",
       "       [66, 37, 36, 35, 34, 33, 32, 31, 56],\n",
       "       [67, 38, 17, 16, 15, 14, 13, 30, 55],\n",
       "       [68, 39, 18,  5,  4,  3, 12, 29, 54],\n",
       "       [69, 40, 19,  6,  1,  2, 11, 28, 53],\n",
       "       [70, 41, 20,  7,  8,  9, 10, 27, 52],\n",
       "       [71, 42, 21, 22, 23, 24, 25, 26, 51],\n",
       "       [72, 43, 44, 45, 46, 47, 48, 49, 50],\n",
       "       [73, 74, 75, 76, 77, 78, 79, 80, 81]])"
      ]
     },
     "execution_count": 8,
     "metadata": {},
     "output_type": "execute_result"
    }
   ],
   "source": [
    "# inizialmente la matrice è composta da soli zeri\n",
    "def matrix(n):\n",
    "    board = np.zeros(( 2*n + 1, 2*n + 1),int)\n",
    "    board[n][n] = 1\n",
    "    flag = 1\n",
    "    for i in range (1,n+1):\n",
    "        for j in range (0,2*i):\n",
    "            flag += 1          \n",
    "            board[n-j+i-1][n+i] = flag #right segment\n",
    "        for j in range (0,2*i):\n",
    "            flag += 1\n",
    "            board[n-i][n+i-j-1] = flag #top segment\n",
    "        for j in range (0,2*i):\n",
    "            flag += 1\n",
    "            board[n-i+j+1][n-i] = flag #left segment\n",
    "        for j in range (0,2*i):\n",
    "            flag += 1\n",
    "            board[n+i][n-i+j+1] = flag #bottom segment\n",
    "    return board\n",
    "\n",
    "matrix(4)"
   ]
  },
  {
   "cell_type": "markdown",
   "metadata": {},
   "source": [
    "### SIMULATE THE WALK\n"
   ]
  },
  {
   "cell_type": "code",
   "execution_count": null,
   "metadata": {},
   "outputs": [],
   "source": [
    "# next we will write the function to simulate the walk and produce the sequence. This function will take an initialized board as input,\n",
    "# and produce a list of numbers as well as the corresponding x- and y- cordinates"
   ]
  },
  {
   "cell_type": "code",
   "execution_count": 33,
   "metadata": {},
   "outputs": [
    {
     "name": "stdout",
     "output_type": "stream",
     "text": [
      "Numeri visitati: [1, 2, 3, 6, 5, 8, 9, 9, 6, 3]\n",
      "Coordinate x: [0, 0, 0, 1, 1, 2, 2, 2, 1, 0]\n",
      "Coordinate y: [0, 1, 2, 2, 1, 1, 2, 2, 2, 2]\n"
     ]
    }
   ],
   "source": [
    "board = [[1, 2, 3], [4, 5, 6], [7, 8, 9]]\n",
    "steps = 10\n",
    "\n",
    "numbers, x_coords, y_coords = simulate_walk(board, steps)\n",
    "\n",
    "print(\"Numeri visitati:\", numbers)\n",
    "print(\"Coordinate x:\", x_coords)\n",
    "print(\"Coordinate y:\", y_coords)"
   ]
  },
  {
   "cell_type": "code",
   "execution_count": 39,
   "metadata": {},
   "outputs": [],
   "source": [
    "def matrix(n):\n",
    "    board = np.zeros(( 2*n + 1, 2*n + 1),int)\n",
    "    board[n][n] = 1\n",
    "    flag = 1\n",
    "\n",
    "    for i in range (1,n+1):\n",
    "        for j in range (0,2*i):\n",
    "            flag += 1          \n",
    "            board[n-j+i-1][n+i] = flag\n",
    "        for j in range (0,2*i):\n",
    "            flag += 1\n",
    "            board[n-i][n+i-j-1] = flag\n",
    "        for j in range (0,2*i):\n",
    "            flag += 1\n",
    "            board[n-i+j+1][n-i] = flag\n",
    "        for j in range (0,2*i):\n",
    "            flag += 1\n",
    "            board[n+i][n-i+j+1] = flag\n",
    "    return board\n",
    "\n",
    " \n",
    "\n",
    "def walk(board):\n",
    "    reference = len(board)\n",
    "    c = (reference-1) / 2                        \n",
    "    current_position = (c,c)\n",
    "    moves = (-1,-2), (-1,2), (1,-2), (1,2), (-2,-1), (-2,1), (2,-1), (2,1)  \n",
    "    sequence = [board[int(current_position[0]), int(current_position[1])]]      \n",
    "    x_coordinates = [c]          \n",
    "    y_coordinates = [c]\n",
    "    counter_invalid_moves = 0\n",
    "\n",
    "    while counter_invalid_moves < len(moves):\n",
    "        temp_min_value_move = pow(reference,2)\n",
    "\n",
    "        for i in range(len(moves)):\n",
    "            temp_x_coordinate_i = int(current_position[0]) + int(moves[i][0])\n",
    "            temp_y_coordinate_i = int(current_position[1]) + int(moves[i][1])\n",
    "\n",
    "            if ( 0 <= temp_x_coordinate_i < reference ) and ( 0 <=  temp_y_coordinate_i < reference ):\n",
    "                temp_value_at_i_move = board[temp_x_coordinate_i, temp_y_coordinate_i]\n",
    "\n",
    "                if ( temp_value_at_i_move <= temp_min_value_move ) and ( temp_value_at_i_move not in(sequence) ):\n",
    "                    counter_invalid_moves = 0\n",
    "                    temp_min_value_move = temp_value_at_i_move\n",
    "                    i_chosen_move = i\n",
    "\n",
    "                else:\n",
    "                    counter_invalid_moves += 1\n",
    "\n",
    "            else:\n",
    "                counter_invalid_moves += 1\n",
    "\n",
    "        if counter_invalid_moves < len(moves):\n",
    "            temp_x_coordinate_chosen_i = int(current_position[0]) + int(moves[i_chosen_move][0])\n",
    "            temp_y_coordinate_chosen_i = int(current_position[1]) + int(moves[i_chosen_move][1])\n",
    "            current_position = (temp_x_coordinate_chosen_i, temp_y_coordinate_chosen_i)  \n",
    "\n",
    "            if ( 0 <= temp_x_coordinate_i < reference ) and ( 0 <=  temp_y_coordinate_i < reference ):\n",
    "                sequence.append(board[int(current_position[0]), int(current_position[1])])\n",
    "                x_coordinates.append(temp_x_coordinate_chosen_i)\n",
    "                y_coordinates.append(temp_y_coordinate_chosen_i)\n",
    "\n",
    "    n = int(len(board) / 2)\n",
    "\n",
    "    for _ in range (len(sequence)):\n",
    "        x_coordinates[_] -= n\n",
    "        x_coordinates[_] *= (-1)\n",
    "        y_coordinates[_] -= n\n",
    "        \n",
    "    return ( sequence, x_coordinates, y_coordinates)\n",
    "\n",
    "    #fig.set_size_inches(10,10)"
   ]
  },
  {
   "cell_type": "code",
   "execution_count": 38,
   "metadata": {},
   "outputs": [
    {
     "data": {
      "text/plain": [
       "([1, 10, 6, 3, 8, 2, 5, 14, 11, 7, 9, 13, 17, 4, 19, 16],\n",
       " [-0.0, -1, 0, 1, -1, 0, 1, 2, 0, -1, -1, 2, 2, 1, 0, 2],\n",
       " [0.0, 2, -1, 1, 0, 1, -1, 1, 2, -1, 1, 2, -2, 0, -2, -1])"
      ]
     },
     "execution_count": 38,
     "metadata": {},
     "output_type": "execute_result"
    }
   ],
   "source": [
    "walk(matrix(2))"
   ]
  },
  {
   "cell_type": "code",
   "execution_count": 40,
   "metadata": {},
   "outputs": [
    {
     "ename": "NameError",
     "evalue": "name 'initialize_board' is not defined",
     "output_type": "error",
     "traceback": [
      "\u001b[1;31m---------------------------------------------------------------------------\u001b[0m",
      "\u001b[1;31mNameError\u001b[0m                                 Traceback (most recent call last)",
      "\u001b[1;32mUntitled-1.ipynb Cell 11\u001b[0m line \u001b[0;36m2\n\u001b[0;32m      <a href='vscode-notebook-cell:Untitled-1.ipynb?jupyter-notebook#X16sdW50aXRsZWQ%3D?line=0'>1</a>\u001b[0m n \u001b[39m=\u001b[39m \u001b[39m100\u001b[39m\n\u001b[1;32m----> <a href='vscode-notebook-cell:Untitled-1.ipynb?jupyter-notebook#X16sdW50aXRsZWQ%3D?line=1'>2</a>\u001b[0m board \u001b[39m=\u001b[39m initialize_board(n)\n\u001b[0;32m      <a href='vscode-notebook-cell:Untitled-1.ipynb?jupyter-notebook#X16sdW50aXRsZWQ%3D?line=2'>3</a>\u001b[0m sequence, x_coords, y_coords \u001b[39m=\u001b[39m simulate_walk_2(board)\n\u001b[0;32m      <a href='vscode-notebook-cell:Untitled-1.ipynb?jupyter-notebook#X16sdW50aXRsZWQ%3D?line=3'>4</a>\u001b[0m \u001b[39mprint\u001b[39m(\u001b[39m\"\u001b[39m\u001b[39mlast element = \u001b[39m\u001b[39m\"\u001b[39m, \u001b[39mint\u001b[39m(sequence[\u001b[39m-\u001b[39m\u001b[39m1\u001b[39m]))\n",
      "\u001b[1;31mNameError\u001b[0m: name 'initialize_board' is not defined"
     ]
    }
   ],
   "source": [
    "n = 100\n",
    "board = initialize_board(n)\n",
    "sequence, x_coords, y_coords = simulate_walk_2(board)\n",
    "print(\"last element = \", int(sequence[-1]))\n",
    "print(f\"with coordinates ({x_coords[-1]},{y_coords[-1]})\")\n",
    "\n",
    "plt.plot(x_coords, y_coords)\n",
    "plt.annotate('X', xy=(x_coords[-1],y_coords[-1]), color='red', size=20)\n",
    "plt.grid()"
   ]
  }
 ],
 "metadata": {
  "kernelspec": {
   "display_name": "base",
   "language": "python",
   "name": "python3"
  },
  "language_info": {
   "codemirror_mode": {
    "name": "ipython",
    "version": 3
   },
   "file_extension": ".py",
   "mimetype": "text/x-python",
   "name": "python",
   "nbconvert_exporter": "python",
   "pygments_lexer": "ipython3",
   "version": "3.10.9"
  },
  "orig_nbformat": 4
 },
 "nbformat": 4,
 "nbformat_minor": 2
}
