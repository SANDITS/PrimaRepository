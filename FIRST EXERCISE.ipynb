{
 "cells": [
  {
   "cell_type": "markdown",
   "metadata": {},
   "source": [
    "### KNIGHT'S WALK\n"
   ]
  },
  {
   "cell_type": "code",
   "execution_count": 1,
   "metadata": {},
   "outputs": [],
   "source": [
    "import numpy as np\n",
    "import matplotlib.pyplot as plt"
   ]
  },
  {
   "cell_type": "code",
   "execution_count": 2,
   "metadata": {},
   "outputs": [],
   "source": [
    "# we will store the chest board in a 2d numpy array of integers. the size of the board is (2n +1) by (2n +1), for  a given integer n.\n",
    "# This means the board extends from the center square by n steps in all directions,"
   ]
  },
  {
   "cell_type": "code",
   "execution_count": 3,
   "metadata": {},
   "outputs": [
    {
     "name": "stdout",
     "output_type": "stream",
     "text": [
      "37\t36\t35\t34\t33\t32\t31\t\n",
      "38\t17\t16\t15\t14\t13\t30\t\n",
      "39\t18\t5\t4\t3\t12\t29\t\n",
      "40\t19\t6\t1\t2\t11\t28\t\n",
      "41\t20\t7\t8\t9\t10\t27\t\n",
      "42\t21\t22\t23\t24\t25\t26\t\n",
      "43\t44\t45\t46\t47\t48\t49\t\n"
     ]
    }
   ],
   "source": [
    "# Definizione di una funzione per creare una matrice a spirale di dimensione n x n\n",
    "def crea_matrice_spirale(n):\n",
    "    # Inizializza una matrice vuota di dimensione n x n con tutti gli elementi inizializzati a 0\n",
    "    matrice = [[0] * n for _ in range(n)]\n",
    "\n",
    "    # Inizializza il numero corrente a 1 e le coordinate della posizione centrale della matrice\n",
    "\n",
    "    numero = 1\n",
    "    riga, colonna = n // 2, n // 2\n",
    "\n",
    "    # Inizializza la direzione iniziale come \"destra\", inizializza il numero di passi iniziale a 1,\n",
    "    # e il numero di passi completati a 0\n",
    "    direzione = \"destra\"\n",
    "    passi = 1\n",
    "    passi_completati = 0\n",
    "\n",
    "    # Finché non abbiamo riempito la matrice con tutti i numeri da 1 a n^2\n",
    "    while numero <= n * n:\n",
    "        # Assegna il numero corrente alla posizione corrente nella matrice\n",
    "        matrice[riga][colonna] = numero\n",
    "        numero += 1\n",
    "\n",
    "        # Sposta la posizione in base alla direzione corrente\n",
    "        if direzione == \"destra\":\n",
    "            colonna += 1\n",
    "        elif direzione == \"giù\":\n",
    "            riga += 1\n",
    "        elif direzione == \"sinistra\":\n",
    "            colonna -= 1\n",
    "        elif direzione == \"su\":\n",
    "            riga -= 1\n",
    "\n",
    "        # Incrementa il conteggio dei passi completati\n",
    "        passi_completati += 1\n",
    "\n",
    "        # Se abbiamo completato il numero di passi previsti nella direzione corrente\n",
    "        if passi_completati == passi:\n",
    "            passi_completati = 0\n",
    "\n",
    "            # Cambia direzione in senso orario (\"destra\" -> \"giù\" -> \"sinistra\" -> \"su\" -> \"destra\")\n",
    "            if direzione == \"destra\":\n",
    "                direzione = \"su\"\n",
    "            elif direzione == \"su\":\n",
    "                direzione = \"sinistra\"\n",
    "            elif direzione == \"sinistra\":\n",
    "                direzione = \"giù\"\n",
    "            elif direzione == \"giù\":\n",
    "                direzione = \"destra\"\n",
    "\n",
    "            # Se la direzione è \"destra\" o \"sinistra\", incrementa il numero di passi\n",
    "            if direzione in [\"destra\", \"sinistra\"]:\n",
    "                passi += 1\n",
    "\n",
    "    # Restituisce la matrice completata\n",
    "    return matrice\n",
    "\n",
    "# Definizione di una funzione per stampare una matrice\n",
    "def stampa_matrice(matrice):\n",
    "    for riga in matrice:\n",
    "        for elemento in riga:\n",
    "            print(elemento, end=\"\\t\")  # Stampa ogni elemento della matrice separato da una tabulazione\n",
    "        print()  # Vai a capo dopo ogni riga\n",
    "\n",
    "# Dimensione della matrice (puoi cambiarla)\n",
    "n = 7 # deve essere per forza dispari\n",
    "\n",
    "# Chiama la funzione per creare la matrice a spirale\n",
    "matrice_spirale = crea_matrice_spirale(n)\n",
    "\n",
    "# Chiama la funzione per stampare la matrice\n",
    "stampa_matrice(matrice_spirale)"
   ]
  },
  {
   "cell_type": "code",
   "execution_count": 4,
   "metadata": {},
   "outputs": [
    {
     "data": {
      "text/plain": [
       "array([[65, 64, 63, 62, 61, 60, 59, 58, 57],\n",
       "       [66, 37, 36, 35, 34, 33, 32, 31, 56],\n",
       "       [67, 38, 17, 16, 15, 14, 13, 30, 55],\n",
       "       [68, 39, 18,  5,  4,  3, 12, 29, 54],\n",
       "       [69, 40, 19,  6,  1,  2, 11, 28, 53],\n",
       "       [70, 41, 20,  7,  8,  9, 10, 27, 52],\n",
       "       [71, 42, 21, 22, 23, 24, 25, 26, 51],\n",
       "       [72, 43, 44, 45, 46, 47, 48, 49, 50],\n",
       "       [73, 74, 75, 76, 77, 78, 79, 80, 81]])"
      ]
     },
     "execution_count": 4,
     "metadata": {},
     "output_type": "execute_result"
    }
   ],
   "source": [
    "# inizialmente la matrice è composta da soli zeri\n",
    "def matrix(n):\n",
    "    board = np.zeros(( 2*n + 1, 2*n + 1),int)\n",
    "    board[n][n] = 1\n",
    "    flag = 1\n",
    "    for i in range (1,n+1):\n",
    "        for j in range (0,2*i):\n",
    "            flag += 1          \n",
    "            board[n-j+i-1][n+i] = flag #right segment\n",
    "        for j in range (0,2*i):\n",
    "            flag += 1\n",
    "            board[n-i][n+i-j-1] = flag #top segment\n",
    "        for j in range (0,2*i):\n",
    "            flag += 1\n",
    "            board[n-i+j+1][n-i] = flag #left segment\n",
    "        for j in range (0,2*i):\n",
    "            flag += 1\n",
    "            board[n+i][n-i+j+1] = flag #bottom segment\n",
    "    return board\n",
    "\n",
    "matrix(4)"
   ]
  },
  {
   "cell_type": "markdown",
   "metadata": {},
   "source": [
    "### SIMULATE THE WALK\n"
   ]
  },
  {
   "cell_type": "code",
   "execution_count": 5,
   "metadata": {},
   "outputs": [],
   "source": [
    "# next we will write the function to simulate the walk and produce the sequence. This function will take an initialized board as input,\n",
    "# and produce a list of numbers as well as the corresponding x- and y- cordinates"
   ]
  },
  {
   "cell_type": "code",
   "execution_count": 6,
   "metadata": {},
   "outputs": [
    {
     "ename": "NameError",
     "evalue": "name 'simulate_walk' is not defined",
     "output_type": "error",
     "traceback": [
      "\u001b[1;31m---------------------------------------------------------------------------\u001b[0m",
      "\u001b[1;31mNameError\u001b[0m                                 Traceback (most recent call last)",
      "\u001b[1;32mc:\\Users\\ChristianSandi\\OneDrive - ITS Incom\\Desktop\\GITHUB\\PrimaRepository\\FIRST EXERCISE.ipynb Cell 8\u001b[0m line \u001b[0;36m4\n\u001b[0;32m      <a href='vscode-notebook-cell:/c%3A/Users/ChristianSandi/OneDrive%20-%20ITS%20Incom/Desktop/GITHUB/PrimaRepository/FIRST%20EXERCISE.ipynb#X10sZmlsZQ%3D%3D?line=0'>1</a>\u001b[0m board \u001b[39m=\u001b[39m [[\u001b[39m1\u001b[39m, \u001b[39m2\u001b[39m, \u001b[39m3\u001b[39m], [\u001b[39m4\u001b[39m, \u001b[39m5\u001b[39m, \u001b[39m6\u001b[39m], [\u001b[39m7\u001b[39m, \u001b[39m8\u001b[39m, \u001b[39m9\u001b[39m]]\n\u001b[0;32m      <a href='vscode-notebook-cell:/c%3A/Users/ChristianSandi/OneDrive%20-%20ITS%20Incom/Desktop/GITHUB/PrimaRepository/FIRST%20EXERCISE.ipynb#X10sZmlsZQ%3D%3D?line=1'>2</a>\u001b[0m steps \u001b[39m=\u001b[39m \u001b[39m10\u001b[39m\n\u001b[1;32m----> <a href='vscode-notebook-cell:/c%3A/Users/ChristianSandi/OneDrive%20-%20ITS%20Incom/Desktop/GITHUB/PrimaRepository/FIRST%20EXERCISE.ipynb#X10sZmlsZQ%3D%3D?line=3'>4</a>\u001b[0m numbers, x_coords, y_coords \u001b[39m=\u001b[39m simulate_walk(board, steps)\n\u001b[0;32m      <a href='vscode-notebook-cell:/c%3A/Users/ChristianSandi/OneDrive%20-%20ITS%20Incom/Desktop/GITHUB/PrimaRepository/FIRST%20EXERCISE.ipynb#X10sZmlsZQ%3D%3D?line=5'>6</a>\u001b[0m \u001b[39mprint\u001b[39m(\u001b[39m\"\u001b[39m\u001b[39mNumeri visitati:\u001b[39m\u001b[39m\"\u001b[39m, numbers)\n\u001b[0;32m      <a href='vscode-notebook-cell:/c%3A/Users/ChristianSandi/OneDrive%20-%20ITS%20Incom/Desktop/GITHUB/PrimaRepository/FIRST%20EXERCISE.ipynb#X10sZmlsZQ%3D%3D?line=6'>7</a>\u001b[0m \u001b[39mprint\u001b[39m(\u001b[39m\"\u001b[39m\u001b[39mCoordinate x:\u001b[39m\u001b[39m\"\u001b[39m, x_coords)\n",
      "\u001b[1;31mNameError\u001b[0m: name 'simulate_walk' is not defined"
     ]
    }
   ],
   "source": [
    "board = [[1, 2, 3], [4, 5, 6], [7, 8, 9]]\n",
    "steps = 10\n",
    "\n",
    "numbers, x_coords, y_coords = simulate_walk(board, steps)\n",
    "\n",
    "print(\"Numeri visitati:\", numbers)\n",
    "print(\"Coordinate x:\", x_coords)\n",
    "print(\"Coordinate y:\", y_coords)"
   ]
  },
  {
   "cell_type": "code",
   "execution_count": null,
   "metadata": {},
   "outputs": [],
   "source": [
    "def matrix(n):\n",
    "    board = np.zeros(( 2*n + 1, 2*n + 1),int)\n",
    "    board[n][n] = 1\n",
    "    flag = 1\n",
    "\n",
    "    for i in range (1,n+1):\n",
    "        for j in range (0,2*i):\n",
    "            flag += 1          \n",
    "            board[n-j+i-1][n+i] = flag\n",
    "        for j in range (0,2*i):\n",
    "            flag += 1\n",
    "            board[n-i][n+i-j-1] = flag\n",
    "        for j in range (0,2*i):\n",
    "            flag += 1\n",
    "            board[n-i+j+1][n-i] = flag\n",
    "        for j in range (0,2*i):\n",
    "            flag += 1\n",
    "            board[n+i][n-i+j+1] = flag\n",
    "    return board\n",
    "\n",
    " \n",
    "\n",
    "def walk(board):\n",
    "    reference = len(board)\n",
    "    c = (reference-1) / 2                        \n",
    "    current_position = (c,c)\n",
    "    moves = (-1,-2), (-1,2), (1,-2), (1,2), (-2,-1), (-2,1), (2,-1), (2,1)  \n",
    "    sequence = [board[int(current_position[0]), int(current_position[1])]]      \n",
    "    x_coordinates = [c]          \n",
    "    y_coordinates = [c]\n",
    "    counter_invalid_moves = 0\n",
    "\n",
    "    while counter_invalid_moves < len(moves):\n",
    "        temp_min_value_move = pow(reference,2)\n",
    "\n",
    "        for i in range(len(moves)):\n",
    "            temp_x_coordinate_i = int(current_position[0]) + int(moves[i][0])\n",
    "            temp_y_coordinate_i = int(current_position[1]) + int(moves[i][1])\n",
    "\n",
    "            if ( 0 <= temp_x_coordinate_i < reference ) and ( 0 <=  temp_y_coordinate_i < reference ):\n",
    "                temp_value_at_i_move = board[temp_x_coordinate_i, temp_y_coordinate_i]\n",
    "\n",
    "                if ( temp_value_at_i_move <= temp_min_value_move ) and ( temp_value_at_i_move not in(sequence) ):\n",
    "                    counter_invalid_moves = 0\n",
    "                    temp_min_value_move = temp_value_at_i_move\n",
    "                    i_chosen_move = i\n",
    "\n",
    "                else:\n",
    "                    counter_invalid_moves += 1\n",
    "\n",
    "            else:\n",
    "                counter_invalid_moves += 1\n",
    "\n",
    "        if counter_invalid_moves < len(moves):\n",
    "            temp_x_coordinate_chosen_i = int(current_position[0]) + int(moves[i_chosen_move][0])\n",
    "            temp_y_coordinate_chosen_i = int(current_position[1]) + int(moves[i_chosen_move][1])\n",
    "            current_position = (temp_x_coordinate_chosen_i, temp_y_coordinate_chosen_i)  \n",
    "\n",
    "            if ( 0 <= temp_x_coordinate_i < reference ) and ( 0 <=  temp_y_coordinate_i < reference ):\n",
    "                sequence.append(board[int(current_position[0]), int(current_position[1])])\n",
    "                x_coordinates.append(temp_x_coordinate_chosen_i)\n",
    "                y_coordinates.append(temp_y_coordinate_chosen_i)\n",
    "\n",
    "    n = int(len(board) / 2)\n",
    "\n",
    "    for _ in range (len(sequence)):\n",
    "        x_coordinates[_] -= n\n",
    "        x_coordinates[_] *= (-1)\n",
    "        y_coordinates[_] -= n\n",
    "        \n",
    "    return ( sequence, x_coordinates, y_coordinates)\n",
    "\n",
    "    #fig.set_size_inches(10,10)"
   ]
  },
  {
   "cell_type": "code",
   "execution_count": null,
   "metadata": {},
   "outputs": [
    {
     "data": {
      "text/plain": [
       "([1, 10, 6, 3, 8, 2, 5, 14, 11, 7, 9, 13, 17, 4, 19, 16],\n",
       " [-0.0, -1, 0, 1, -1, 0, 1, 2, 0, -1, -1, 2, 2, 1, 0, 2],\n",
       " [0.0, 2, -1, 1, 0, 1, -1, 1, 2, -1, 1, 2, -2, 0, -2, -1])"
      ]
     },
     "execution_count": 38,
     "metadata": {},
     "output_type": "execute_result"
    }
   ],
   "source": [
    "walk(matrix(2))"
   ]
  },
  {
   "cell_type": "code",
   "execution_count": null,
   "metadata": {},
   "outputs": [
    {
     "ename": "NameError",
     "evalue": "name 'initialize_board' is not defined",
     "output_type": "error",
     "traceback": [
      "\u001b[1;31m---------------------------------------------------------------------------\u001b[0m",
      "\u001b[1;31mNameError\u001b[0m                                 Traceback (most recent call last)",
      "\u001b[1;32mUntitled-1.ipynb Cell 11\u001b[0m line \u001b[0;36m2\n\u001b[0;32m      <a href='vscode-notebook-cell:Untitled-1.ipynb?jupyter-notebook#X16sdW50aXRsZWQ%3D?line=0'>1</a>\u001b[0m n \u001b[39m=\u001b[39m \u001b[39m100\u001b[39m\n\u001b[1;32m----> <a href='vscode-notebook-cell:Untitled-1.ipynb?jupyter-notebook#X16sdW50aXRsZWQ%3D?line=1'>2</a>\u001b[0m board \u001b[39m=\u001b[39m initialize_board(n)\n\u001b[0;32m      <a href='vscode-notebook-cell:Untitled-1.ipynb?jupyter-notebook#X16sdW50aXRsZWQ%3D?line=2'>3</a>\u001b[0m sequence, x_coords, y_coords \u001b[39m=\u001b[39m simulate_walk_2(board)\n\u001b[0;32m      <a href='vscode-notebook-cell:Untitled-1.ipynb?jupyter-notebook#X16sdW50aXRsZWQ%3D?line=3'>4</a>\u001b[0m \u001b[39mprint\u001b[39m(\u001b[39m\"\u001b[39m\u001b[39mlast element = \u001b[39m\u001b[39m\"\u001b[39m, \u001b[39mint\u001b[39m(sequence[\u001b[39m-\u001b[39m\u001b[39m1\u001b[39m]))\n",
      "\u001b[1;31mNameError\u001b[0m: name 'initialize_board' is not defined"
     ]
    }
   ],
   "source": [
    "n = 100\n",
    "board = initialize_board(n)\n",
    "sequence, x_coords, y_coords = simulate_walk_2(board)\n",
    "print(\"last element = \", int(sequence[-1]))\n",
    "print(f\"with coordinates ({x_coords[-1]},{y_coords[-1]})\")\n",
    "\n",
    "plt.plot(x_coords, y_coords)\n",
    "plt.annotate('X', xy=(x_coords[-1],y_coords[-1]), color='red', size=20)\n",
    "plt.grid()"
   ]
  },
  {
   "cell_type": "markdown",
   "metadata": {},
   "source": [
    "### GREEK RUN\n"
   ]
  },
  {
   "cell_type": "code",
   "execution_count": null,
   "metadata": {},
   "outputs": [
    {
     "name": "stdout",
     "output_type": "stream",
     "text": [
      "Collecting opencv-python\n",
      "  Downloading opencv_python-4.8.0.76-cp37-abi3-win_amd64.whl (38.1 MB)\n",
      "     --------------------------------------- 38.1/38.1 MB 11.9 MB/s eta 0:00:00\n",
      "Requirement already satisfied: numpy>=1.21.2 in c:\\users\\christiansandi\\appdata\\local\\programs\\python\\python311\\lib\\site-packages (from opencv-python) (1.23.4)\n",
      "Collecting numpy>=1.21.2\n",
      "  Downloading numpy-1.25.2-cp311-cp311-win_amd64.whl (15.5 MB)\n",
      "     --------------------------------------- 15.5/15.5 MB 11.7 MB/s eta 0:00:00\n",
      "Installing collected packages: numpy, opencv-python\n",
      "  Attempting uninstall: numpy\n",
      "    Found existing installation: numpy 1.23.4\n",
      "    Uninstalling numpy-1.23.4:\n",
      "      Successfully uninstalled numpy-1.23.4\n",
      "Note: you may need to restart the kernel to use updated packages.\n"
     ]
    },
    {
     "name": "stderr",
     "output_type": "stream",
     "text": [
      "  WARNING: The script f2py.exe is installed in 'c:\\Users\\ChristianSandi\\AppData\\Local\\Programs\\Python\\Python311\\Scripts' which is not on PATH.\n",
      "  Consider adding this directory to PATH or, if you prefer to suppress this warning, use --no-warn-script-location.\n",
      "ERROR: Could not install packages due to an OSError: [WinError 5] Access is denied: 'C:\\\\Users\\\\ChristianSandi\\\\AppData\\\\Local\\\\Programs\\\\Python\\\\Python311\\\\Lib\\\\site-packages\\\\~umpy\\\\.libs\\\\libopenblas.FB5AE2TYXYH2IJRDKGDGQ3XBKLKTF43H.gfortran-win_amd64.dll'\n",
      "Consider using the `--user` option or check the permissions.\n",
      "\n",
      "\n",
      "[notice] A new release of pip available: 22.3 -> 23.2.1\n",
      "[notice] To update, run: python.exe -m pip install --upgrade pip\n"
     ]
    }
   ],
   "source": [
    "%pip install opencv-python"
   ]
  },
  {
   "cell_type": "code",
   "execution_count": null,
   "metadata": {},
   "outputs": [
    {
     "ename": "ModuleNotFoundError",
     "evalue": "No module named 'cv2'",
     "output_type": "error",
     "traceback": [
      "\u001b[1;31m---------------------------------------------------------------------------\u001b[0m",
      "\u001b[1;31mModuleNotFoundError\u001b[0m                       Traceback (most recent call last)",
      "\u001b[1;32mc:\\Users\\ChristianSandi\\OneDrive - ITS Incom\\Desktop\\GITHUB\\PrimaRepository\\FIRST EXERCISE.ipynb Cell 14\u001b[0m line \u001b[0;36m3\n\u001b[0;32m      <a href='vscode-notebook-cell:/c%3A/Users/ChristianSandi/OneDrive%20-%20ITS%20Incom/Desktop/GITHUB/PrimaRepository/FIRST%20EXERCISE.ipynb#X14sZmlsZQ%3D%3D?line=0'>1</a>\u001b[0m \u001b[39mimport\u001b[39;00m \u001b[39mnumpy\u001b[39;00m \u001b[39mas\u001b[39;00m \u001b[39mnp\u001b[39;00m\n\u001b[0;32m      <a href='vscode-notebook-cell:/c%3A/Users/ChristianSandi/OneDrive%20-%20ITS%20Incom/Desktop/GITHUB/PrimaRepository/FIRST%20EXERCISE.ipynb#X14sZmlsZQ%3D%3D?line=1'>2</a>\u001b[0m \u001b[39mimport\u001b[39;00m \u001b[39mmatplotlib\u001b[39;00m\u001b[39m.\u001b[39;00m\u001b[39mpyplot\u001b[39;00m \u001b[39mas\u001b[39;00m \u001b[39mplt\u001b[39;00m\n\u001b[1;32m----> <a href='vscode-notebook-cell:/c%3A/Users/ChristianSandi/OneDrive%20-%20ITS%20Incom/Desktop/GITHUB/PrimaRepository/FIRST%20EXERCISE.ipynb#X14sZmlsZQ%3D%3D?line=2'>3</a>\u001b[0m \u001b[39mimport\u001b[39;00m \u001b[39mcv2\u001b[39;00m\n\u001b[0;32m      <a href='vscode-notebook-cell:/c%3A/Users/ChristianSandi/OneDrive%20-%20ITS%20Incom/Desktop/GITHUB/PrimaRepository/FIRST%20EXERCISE.ipynb#X14sZmlsZQ%3D%3D?line=4'>5</a>\u001b[0m \u001b[39m# Creare un video\u001b[39;00m\n\u001b[0;32m      <a href='vscode-notebook-cell:/c%3A/Users/ChristianSandi/OneDrive%20-%20ITS%20Incom/Desktop/GITHUB/PrimaRepository/FIRST%20EXERCISE.ipynb#X14sZmlsZQ%3D%3D?line=5'>6</a>\u001b[0m fourcc \u001b[39m=\u001b[39m cv2\u001b[39m.\u001b[39mVideoWriter_fourcc(\u001b[39m*\u001b[39m\u001b[39m'\u001b[39m\u001b[39mmp4v\u001b[39m\u001b[39m'\u001b[39m)\n",
      "\u001b[1;31mModuleNotFoundError\u001b[0m: No module named 'cv2'"
     ]
    }
   ],
   "source": [
    "import numpy as np\n",
    "import matplotlib.pyplot as plt\n",
    "import cv2\n",
    "\n",
    "# Creare un video\n",
    "fourcc = cv2.VideoWriter_fourcc(*'mp4v')\n",
    "video = cv2.VideoWriter('corsa_greca.mp4', fourcc, 10, (800, 400))\n",
    "\n",
    "# Posizioni iniziali dei giocatori\n",
    "positions = np.array([0, 20, 40, 60, 80])\n",
    "\n",
    "# Direzioni iniziali dei giocatori (1, 2, 3, 4 vanno a destra, 5 va a sinistra)\n",
    "directions = np.array([1, 1, 1, 1, -1])\n",
    "\n",
    " \n",
    "\n",
    "# Simulazione della corsa\n",
    "while True:\n",
    "    # Aggiornamento delle posizioni dei giocatori\n",
    "    positions += directions\n",
    "\n",
    "    # Controllo degli incontri tra giocatori\n",
    "    for i in range(4):\n",
    "        for j in range(i + 1, 5):\n",
    "            if positions[i] == positions[j]:\n",
    "                directions[i], directions[j] = -directions[j], -directions[i]\n",
    "\n",
    " \n",
    "    # Controllo se un giocatore è uscito dai limiti\n",
    "    for i in range(5):\n",
    "        if positions[i] < 0 or positions[i] > 100:\n",
    "            print(f\"Il giocatore {i + 1} è al sicuro!\")\n",
    "\n",
    " \n",
    "    # Controllo se tutti i giocatori sono al sicuro\n",
    "    if np.sum((positions >= 0) & (positions <= 100)) == 0:\n",
    "        print(\"Pareggio! Nessun giocatore ha perso.\")\n",
    "        break\n",
    "\n",
    "\n",
    "    # Controllo se c'è un unico giocatore rimasto\n",
    "    remaining_players = np.where((positions >= 0) & (positions <= 100))[0]\n",
    "    if len(remaining_players) == 1:\n",
    "        last_player = remaining_players[0]\n",
    "        print(f\"Il giocatore {last_player + 1} ha perso!\")\n",
    "        break\n",
    "\n",
    " \n",
    "    # Creare un frame della simulazione e aggiungerlo al video\n",
    "    plt.figure(figsize=(8, 4))\n",
    "    plt.plot(positions, np.zeros_like(positions), 'ro', markersize=10)\n",
    "    plt.xlim(-10, 110)\n",
    "    plt.ylim(-1, 1)\n",
    "    plt.xlabel(\"Posizione\")\n",
    "    plt.title(\"Simulazione della Corsa Greca\")\n",
    "    plt.savefig('frame.png')\n",
    "    plt.close()\n",
    "\n",
    "    frame = cv2.imread('frame.png')\n",
    "    video.write(frame)\n",
    "\n",
    "# Chiudere il video\n",
    "video.release()\n",
    "\n",
    "# Eliminare i frame temporanei\n",
    "import os\n",
    "os.remove('frame.png')"
   ]
  }
 ],
 "metadata": {
  "kernelspec": {
   "display_name": "base",
   "language": "python",
   "name": "python3"
  },
  "language_info": {
   "codemirror_mode": {
    "name": "ipython",
    "version": 3
   },
   "file_extension": ".py",
   "mimetype": "text/x-python",
   "name": "python",
   "nbconvert_exporter": "python",
   "pygments_lexer": "ipython3",
   "version": "3.10.9"
  },
  "orig_nbformat": 4
 },
 "nbformat": 4,
 "nbformat_minor": 2
}
